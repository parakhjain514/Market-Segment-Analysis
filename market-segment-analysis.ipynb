{
 "cells": [
  {
   "cell_type": "markdown",
   "id": "46a47f36",
   "metadata": {},
   "source": [
    "### RFM Model\n",
    "RFM Model is the method to find out your loyal customer base.\n",
    "\n",
    "It give score to each customers based on there order frequency, total order cost, Last order date.\n",
    "\n",
    "RFM stands for Recency, Frequency, and Monetary Score\n",
    "\n",
    "Lower the RFM Score ,More loyal the customer is."
   ]
  },
  {
   "cell_type": "code",
   "execution_count": 1,
   "id": "943e961c",
   "metadata": {},
   "outputs": [],
   "source": [
    "# Import all required Libraries\n",
    "import numpy as np\n",
    "import pandas as pd \n",
    "import matplotlib.pyplot as plt\n",
    "import seaborn as sns\n",
    "\n",
    "%matplotlib inline"
   ]
  },
  {
   "cell_type": "markdown",
   "id": "c571979b",
   "metadata": {},
   "source": [
    "### Load data"
   ]
  },
  {
   "cell_type": "code",
   "execution_count": 31,
   "id": "45cca5c1",
   "metadata": {},
   "outputs": [
    {
     "data": {
      "text/html": [
       "<div>\n",
       "<style scoped>\n",
       "    .dataframe tbody tr th:only-of-type {\n",
       "        vertical-align: middle;\n",
       "    }\n",
       "\n",
       "    .dataframe tbody tr th {\n",
       "        vertical-align: top;\n",
       "    }\n",
       "\n",
       "    .dataframe thead th {\n",
       "        text-align: right;\n",
       "    }\n",
       "</style>\n",
       "<table border=\"1\" class=\"dataframe\">\n",
       "  <thead>\n",
       "    <tr style=\"text-align: right;\">\n",
       "      <th></th>\n",
       "      <th>index</th>\n",
       "      <th>CustomerID</th>\n",
       "      <th>TOTAL_ORDERS</th>\n",
       "      <th>REVENUE</th>\n",
       "      <th>AVERAGE_ORDER_VALUE</th>\n",
       "      <th>CARRIAGE_REVENUE</th>\n",
       "      <th>AVERAGESHIPPING</th>\n",
       "      <th>FIRST_ORDER_DATE</th>\n",
       "      <th>LATEST_ORDER_DATE</th>\n",
       "      <th>AVGDAYSBETWEENORDERS</th>\n",
       "      <th>...</th>\n",
       "      <th>WEEK3_DAY16_DAY23_REVENUE</th>\n",
       "      <th>WEEK4_DAY24_DAY31_REVENUE</th>\n",
       "      <th>TIME_0000_0600_ORDERS</th>\n",
       "      <th>TIME_0601_1200_ORDERS</th>\n",
       "      <th>TIME_1200_1800_ORDERS</th>\n",
       "      <th>TIME_1801_2359_ORDERS</th>\n",
       "      <th>TIME_0000_0600_REVENUE</th>\n",
       "      <th>TIME_0601_1200_REVENUE</th>\n",
       "      <th>TIME_1200_1800_REVENUE</th>\n",
       "      <th>TIME_1801_2359_REVENUE</th>\n",
       "    </tr>\n",
       "  </thead>\n",
       "  <tbody>\n",
       "    <tr>\n",
       "      <th>0</th>\n",
       "      <td>0</td>\n",
       "      <td>2354</td>\n",
       "      <td>124</td>\n",
       "      <td>11986.54</td>\n",
       "      <td>96.67</td>\n",
       "      <td>529.59</td>\n",
       "      <td>4.27</td>\n",
       "      <td>2016-12-30</td>\n",
       "      <td>2021-10-24</td>\n",
       "      <td>14.19</td>\n",
       "      <td>...</td>\n",
       "      <td>2592.18</td>\n",
       "      <td>2409.71</td>\n",
       "      <td>12</td>\n",
       "      <td>61</td>\n",
       "      <td>37</td>\n",
       "      <td>14</td>\n",
       "      <td>1067.92</td>\n",
       "      <td>5674.65</td>\n",
       "      <td>3916.53</td>\n",
       "      <td>1327.44</td>\n",
       "    </tr>\n",
       "    <tr>\n",
       "      <th>1</th>\n",
       "      <td>1</td>\n",
       "      <td>2361</td>\n",
       "      <td>82</td>\n",
       "      <td>11025.96</td>\n",
       "      <td>134.46</td>\n",
       "      <td>97.92</td>\n",
       "      <td>1.19</td>\n",
       "      <td>2018-03-31</td>\n",
       "      <td>2021-10-24</td>\n",
       "      <td>15.89</td>\n",
       "      <td>...</td>\n",
       "      <td>2807.66</td>\n",
       "      <td>4106.19</td>\n",
       "      <td>1</td>\n",
       "      <td>13</td>\n",
       "      <td>24</td>\n",
       "      <td>44</td>\n",
       "      <td>30.25</td>\n",
       "      <td>3143.69</td>\n",
       "      <td>2205.47</td>\n",
       "      <td>5646.55</td>\n",
       "    </tr>\n",
       "    <tr>\n",
       "      <th>2</th>\n",
       "      <td>2</td>\n",
       "      <td>2415</td>\n",
       "      <td>43</td>\n",
       "      <td>7259.69</td>\n",
       "      <td>168.83</td>\n",
       "      <td>171.69</td>\n",
       "      <td>3.99</td>\n",
       "      <td>2017-11-30</td>\n",
       "      <td>2021-10-24</td>\n",
       "      <td>33.12</td>\n",
       "      <td>...</td>\n",
       "      <td>713.94</td>\n",
       "      <td>2861.90</td>\n",
       "      <td>0</td>\n",
       "      <td>6</td>\n",
       "      <td>12</td>\n",
       "      <td>25</td>\n",
       "      <td>0.00</td>\n",
       "      <td>707.98</td>\n",
       "      <td>2560.91</td>\n",
       "      <td>3990.80</td>\n",
       "    </tr>\n",
       "    <tr>\n",
       "      <th>3</th>\n",
       "      <td>3</td>\n",
       "      <td>2427</td>\n",
       "      <td>44</td>\n",
       "      <td>6992.27</td>\n",
       "      <td>158.92</td>\n",
       "      <td>92.82</td>\n",
       "      <td>2.11</td>\n",
       "      <td>2019-04-09</td>\n",
       "      <td>2021-10-24</td>\n",
       "      <td>21.11</td>\n",
       "      <td>...</td>\n",
       "      <td>997.02</td>\n",
       "      <td>1260.08</td>\n",
       "      <td>0</td>\n",
       "      <td>10</td>\n",
       "      <td>13</td>\n",
       "      <td>21</td>\n",
       "      <td>0.00</td>\n",
       "      <td>1908.99</td>\n",
       "      <td>2025.05</td>\n",
       "      <td>3058.23</td>\n",
       "    </tr>\n",
       "    <tr>\n",
       "      <th>4</th>\n",
       "      <td>4</td>\n",
       "      <td>2456</td>\n",
       "      <td>55</td>\n",
       "      <td>6263.44</td>\n",
       "      <td>113.88</td>\n",
       "      <td>179.04</td>\n",
       "      <td>3.26</td>\n",
       "      <td>2020-10-23</td>\n",
       "      <td>2021-10-24</td>\n",
       "      <td>6.65</td>\n",
       "      <td>...</td>\n",
       "      <td>2725.66</td>\n",
       "      <td>768.46</td>\n",
       "      <td>6</td>\n",
       "      <td>9</td>\n",
       "      <td>27</td>\n",
       "      <td>13</td>\n",
       "      <td>501.34</td>\n",
       "      <td>1197.83</td>\n",
       "      <td>3004.77</td>\n",
       "      <td>1559.50</td>\n",
       "    </tr>\n",
       "  </tbody>\n",
       "</table>\n",
       "<p>5 rows × 41 columns</p>\n",
       "</div>"
      ],
      "text/plain": [
       "   index  CustomerID  TOTAL_ORDERS   REVENUE  AVERAGE_ORDER_VALUE  \\\n",
       "0      0        2354           124  11986.54                96.67   \n",
       "1      1        2361            82  11025.96               134.46   \n",
       "2      2        2415            43   7259.69               168.83   \n",
       "3      3        2427            44   6992.27               158.92   \n",
       "4      4        2456            55   6263.44               113.88   \n",
       "\n",
       "   CARRIAGE_REVENUE  AVERAGESHIPPING FIRST_ORDER_DATE LATEST_ORDER_DATE  \\\n",
       "0            529.59             4.27       2016-12-30        2021-10-24   \n",
       "1             97.92             1.19       2018-03-31        2021-10-24   \n",
       "2            171.69             3.99       2017-11-30        2021-10-24   \n",
       "3             92.82             2.11       2019-04-09        2021-10-24   \n",
       "4            179.04             3.26       2020-10-23        2021-10-24   \n",
       "\n",
       "   AVGDAYSBETWEENORDERS  ...  WEEK3_DAY16_DAY23_REVENUE  \\\n",
       "0                 14.19  ...                    2592.18   \n",
       "1                 15.89  ...                    2807.66   \n",
       "2                 33.12  ...                     713.94   \n",
       "3                 21.11  ...                     997.02   \n",
       "4                  6.65  ...                    2725.66   \n",
       "\n",
       "   WEEK4_DAY24_DAY31_REVENUE  TIME_0000_0600_ORDERS  TIME_0601_1200_ORDERS  \\\n",
       "0                    2409.71                     12                     61   \n",
       "1                    4106.19                      1                     13   \n",
       "2                    2861.90                      0                      6   \n",
       "3                    1260.08                      0                     10   \n",
       "4                     768.46                      6                      9   \n",
       "\n",
       "   TIME_1200_1800_ORDERS  TIME_1801_2359_ORDERS  TIME_0000_0600_REVENUE  \\\n",
       "0                     37                     14                 1067.92   \n",
       "1                     24                     44                   30.25   \n",
       "2                     12                     25                    0.00   \n",
       "3                     13                     21                    0.00   \n",
       "4                     27                     13                  501.34   \n",
       "\n",
       "   TIME_0601_1200_REVENUE  TIME_1200_1800_REVENUE  TIME_1801_2359_REVENUE  \n",
       "0                 5674.65                 3916.53                 1327.44  \n",
       "1                 3143.69                 2205.47                 5646.55  \n",
       "2                  707.98                 2560.91                 3990.80  \n",
       "3                 1908.99                 2025.05                 3058.23  \n",
       "4                 1197.83                 3004.77                 1559.50  \n",
       "\n",
       "[5 rows x 41 columns]"
      ]
     },
     "execution_count": 31,
     "metadata": {},
     "output_type": "execute_result"
    }
   ],
   "source": [
    "# Load the data in Df usig df.read_csv.\n",
    "df=pd.read_csv('Sales.csv')\n",
    "df.head()"
   ]
  },
  {
   "cell_type": "code",
   "execution_count": 32,
   "id": "a5724b08",
   "metadata": {},
   "outputs": [],
   "source": [
    "# WE store the parameters used in RFM analysis in new dataset\n",
    "Rtl_data=df[['CustomerID','TOTAL_ORDERS','REVENUE','LATEST_ORDER_DATE','AVGDAYSBETWEENORDERS']]"
   ]
  },
  {
   "cell_type": "code",
   "execution_count": 33,
   "id": "53b517c4",
   "metadata": {},
   "outputs": [
    {
     "data": {
      "text/html": [
       "<div>\n",
       "<style scoped>\n",
       "    .dataframe tbody tr th:only-of-type {\n",
       "        vertical-align: middle;\n",
       "    }\n",
       "\n",
       "    .dataframe tbody tr th {\n",
       "        vertical-align: top;\n",
       "    }\n",
       "\n",
       "    .dataframe thead th {\n",
       "        text-align: right;\n",
       "    }\n",
       "</style>\n",
       "<table border=\"1\" class=\"dataframe\">\n",
       "  <thead>\n",
       "    <tr style=\"text-align: right;\">\n",
       "      <th></th>\n",
       "      <th>CustomerID</th>\n",
       "      <th>TOTAL_ORDERS</th>\n",
       "      <th>REVENUE</th>\n",
       "      <th>LATEST_ORDER_DATE</th>\n",
       "      <th>AVGDAYSBETWEENORDERS</th>\n",
       "    </tr>\n",
       "  </thead>\n",
       "  <tbody>\n",
       "    <tr>\n",
       "      <th>0</th>\n",
       "      <td>2354</td>\n",
       "      <td>124</td>\n",
       "      <td>11986.54</td>\n",
       "      <td>2021-10-24</td>\n",
       "      <td>14.19</td>\n",
       "    </tr>\n",
       "    <tr>\n",
       "      <th>1</th>\n",
       "      <td>2361</td>\n",
       "      <td>82</td>\n",
       "      <td>11025.96</td>\n",
       "      <td>2021-10-24</td>\n",
       "      <td>15.89</td>\n",
       "    </tr>\n",
       "    <tr>\n",
       "      <th>2</th>\n",
       "      <td>2415</td>\n",
       "      <td>43</td>\n",
       "      <td>7259.69</td>\n",
       "      <td>2021-10-24</td>\n",
       "      <td>33.12</td>\n",
       "    </tr>\n",
       "    <tr>\n",
       "      <th>3</th>\n",
       "      <td>2427</td>\n",
       "      <td>44</td>\n",
       "      <td>6992.27</td>\n",
       "      <td>2021-10-24</td>\n",
       "      <td>21.11</td>\n",
       "    </tr>\n",
       "    <tr>\n",
       "      <th>4</th>\n",
       "      <td>2456</td>\n",
       "      <td>55</td>\n",
       "      <td>6263.44</td>\n",
       "      <td>2021-10-24</td>\n",
       "      <td>6.65</td>\n",
       "    </tr>\n",
       "  </tbody>\n",
       "</table>\n",
       "</div>"
      ],
      "text/plain": [
       "   CustomerID  TOTAL_ORDERS   REVENUE LATEST_ORDER_DATE  AVGDAYSBETWEENORDERS\n",
       "0        2354           124  11986.54        2021-10-24                 14.19\n",
       "1        2361            82  11025.96        2021-10-24                 15.89\n",
       "2        2415            43   7259.69        2021-10-24                 33.12\n",
       "3        2427            44   6992.27        2021-10-24                 21.11\n",
       "4        2456            55   6263.44        2021-10-24                  6.65"
      ]
     },
     "execution_count": 33,
     "metadata": {},
     "output_type": "execute_result"
    }
   ],
   "source": [
    "Rtl_data.head()"
   ]
  },
  {
   "cell_type": "code",
   "execution_count": 34,
   "id": "0817e78e",
   "metadata": {},
   "outputs": [
    {
     "data": {
      "text/plain": [
       "CustomerID                  279492\n",
       "TOTAL_ORDERS                   156\n",
       "REVENUE                    34847.4\n",
       "LATEST_ORDER_DATE       2021-10-24\n",
       "AVGDAYSBETWEENORDERS        1409.5\n",
       "dtype: object"
      ]
     },
     "execution_count": 34,
     "metadata": {},
     "output_type": "execute_result"
    }
   ],
   "source": [
    "Rtl_data.max()"
   ]
  },
  {
   "cell_type": "markdown",
   "id": "d2aeca2d",
   "metadata": {},
   "source": [
    "### RFM Score (Recency, Frequency, and Monetary Score)\n",
    "\n",
    "-Recency means when the last time you bought something from the site\n",
    "\n",
    "-Frequency means how frequently you buy something from the site\n",
    "\n",
    "-Monetary means how revenue is being generated by you\n",
    "\n",
    "We give scores for all three category and add them together, This is called RFM score\n",
    "\n",
    "###### Highet RFM Score means customer is more loyal the customer is\n",
    "\n",
    "##### For Recency: We find the difference between Lastest date and date of last purchase\n",
    "For Example: The is is purchased my last order on 22 october and last date on the record is 24 october then my Recency Score is (24-22)=2\n",
    "\n",
    "##### For Frequency: We used the the data of the column 'AVGDAYSBETWEENORDERS'. The gap between each order is called Frequency\n",
    "For Example: The is is purchased something very week that mean my frquency of order is 1 week or 7 days so Frequency Score=7\n",
    "\n",
    "##### For Monetary: We Calculate the Total Revenue generated by that person\n",
    "For Example: If I bought products of worth 20,000 from myntra in my life than my Monetary is 20,000 so Monetary Score=20,000"
   ]
  },
  {
   "cell_type": "code",
   "execution_count": 35,
   "id": "2e132d34",
   "metadata": {},
   "outputs": [
    {
     "data": {
      "text/html": [
       "<div>\n",
       "<style scoped>\n",
       "    .dataframe tbody tr th:only-of-type {\n",
       "        vertical-align: middle;\n",
       "    }\n",
       "\n",
       "    .dataframe tbody tr th {\n",
       "        vertical-align: top;\n",
       "    }\n",
       "\n",
       "    .dataframe thead th {\n",
       "        text-align: right;\n",
       "    }\n",
       "</style>\n",
       "<table border=\"1\" class=\"dataframe\">\n",
       "  <thead>\n",
       "    <tr style=\"text-align: right;\">\n",
       "      <th></th>\n",
       "      <th>CustomerID</th>\n",
       "      <th>Recency</th>\n",
       "      <th>Frequency</th>\n",
       "      <th>Monetary</th>\n",
       "    </tr>\n",
       "  </thead>\n",
       "  <tbody>\n",
       "    <tr>\n",
       "      <th>0</th>\n",
       "      <td>2333</td>\n",
       "      <td>52</td>\n",
       "      <td>8.0</td>\n",
       "      <td>34847.0</td>\n",
       "    </tr>\n",
       "    <tr>\n",
       "      <th>1</th>\n",
       "      <td>2334</td>\n",
       "      <td>93</td>\n",
       "      <td>15.0</td>\n",
       "      <td>32486.0</td>\n",
       "    </tr>\n",
       "    <tr>\n",
       "      <th>2</th>\n",
       "      <td>2335</td>\n",
       "      <td>52</td>\n",
       "      <td>24.0</td>\n",
       "      <td>24178.0</td>\n",
       "    </tr>\n",
       "    <tr>\n",
       "      <th>3</th>\n",
       "      <td>2336</td>\n",
       "      <td>4</td>\n",
       "      <td>21.0</td>\n",
       "      <td>18554.0</td>\n",
       "    </tr>\n",
       "    <tr>\n",
       "      <th>4</th>\n",
       "      <td>2337</td>\n",
       "      <td>129</td>\n",
       "      <td>76.0</td>\n",
       "      <td>16884.0</td>\n",
       "    </tr>\n",
       "  </tbody>\n",
       "</table>\n",
       "</div>"
      ],
      "text/plain": [
       "   CustomerID  Recency  Frequency  Monetary\n",
       "0        2333       52        8.0   34847.0\n",
       "1        2334       93       15.0   32486.0\n",
       "2        2335       52       24.0   24178.0\n",
       "3        2336        4       21.0   18554.0\n",
       "4        2337      129       76.0   16884.0"
      ]
     },
     "execution_count": 35,
     "metadata": {},
     "output_type": "execute_result"
    }
   ],
   "source": [
    "import datetime as dt\n",
    "\n",
    "#Set Latest date 2011-12-10 as last invoice date was 2021-10-24. This is to calculate the number of days from recent purchase\n",
    "Latest_Date = dt.datetime(2021,10,24)\n",
    "\n",
    "#Create RFM Modelling scores for each customer\n",
    "RFMScores = Rtl_data.groupby('CustomerID').agg({'LATEST_ORDER_DATE': lambda x: (Latest_Date - pd.to_datetime(x.max())).days, 'AVGDAYSBETWEENORDERS': lambda x: int(x), 'REVENUE': lambda x: int(x)})\n",
    "\n",
    "#Convert Invoice Date into type int\n",
    "RFMScores['LATEST_ORDER_DATE'] = RFMScores['LATEST_ORDER_DATE'].astype(int)\n",
    "\n",
    "#Rename column names to Recency, Frequency and Monetary\n",
    "RFMScores.rename(columns={'LATEST_ORDER_DATE': 'Recency', \n",
    "                         'AVGDAYSBETWEENORDERS': 'Frequency', \n",
    "                         'REVENUE': 'Monetary'}, inplace=True)\n",
    "\n",
    "RFMScores.reset_index().head()"
   ]
  },
  {
   "cell_type": "markdown",
   "id": "9e8f0963",
   "metadata": {},
   "source": [
    "We plot each Row"
   ]
  },
  {
   "cell_type": "markdown",
   "id": "b2839fb5",
   "metadata": {},
   "source": [
    "### Recency Visualization"
   ]
  },
  {
   "cell_type": "code",
   "execution_count": 36,
   "id": "b4cab800",
   "metadata": {},
   "outputs": [
    {
     "data": {
      "text/plain": [
       "count    5000.000000\n",
       "mean       86.420000\n",
       "std        80.156513\n",
       "min         0.000000\n",
       "25%         6.000000\n",
       "50%        67.000000\n",
       "75%       170.250000\n",
       "max       206.000000\n",
       "Name: Recency, dtype: float64"
      ]
     },
     "execution_count": 36,
     "metadata": {},
     "output_type": "execute_result"
    }
   ],
   "source": [
    "RFMScores.Recency.describe()"
   ]
  },
  {
   "cell_type": "code",
   "execution_count": 37,
   "id": "9c5e9c16",
   "metadata": {},
   "outputs": [
    {
     "name": "stderr",
     "output_type": "stream",
     "text": [
      "C:\\Users\\ASUS\\anaconda3\\lib\\site-packages\\seaborn\\distributions.py:2557: FutureWarning: `distplot` is a deprecated function and will be removed in a future version. Please adapt your code to use either `displot` (a figure-level function with similar flexibility) or `histplot` (an axes-level function for histograms).\n",
      "  warnings.warn(msg, FutureWarning)\n"
     ]
    },
    {
     "data": {
      "image/png": "[encoded data removed]",
      "text/plain": [
       "<Figure size 432x288 with 1 Axes>"
      ]
     },
     "metadata": {
      "needs_background": "light"
     },
     "output_type": "display_data"
    }
   ],
   "source": [
    "x = RFMScores['Recency']\n",
    "ax = sns.distplot(x)"
   ]
  },
  {
   "cell_type": "markdown",
   "id": "bdd3cf96",
   "metadata": {},
   "source": [
    "### Frequency Visualization"
   ]
  },
  {
   "cell_type": "code",
   "execution_count": 38,
   "id": "67bc2d84",
   "metadata": {},
   "outputs": [
    {
     "data": {
      "text/plain": [
       "count    5000.000000\n",
       "mean      162.777200\n",
       "std       259.703254\n",
       "min         0.000000\n",
       "25%        21.000000\n",
       "50%        57.000000\n",
       "75%       170.000000\n",
       "max      1409.000000\n",
       "Name: Frequency, dtype: float64"
      ]
     },
     "execution_count": 38,
     "metadata": {},
     "output_type": "execute_result"
    }
   ],
   "source": [
    "RFMScores.Frequency.describe()"
   ]
  },
  {
   "cell_type": "code",
   "execution_count": 39,
   "id": "34dcd2f2",
   "metadata": {},
   "outputs": [
    {
     "name": "stderr",
     "output_type": "stream",
     "text": [
      "C:\\Users\\ASUS\\anaconda3\\lib\\site-packages\\seaborn\\distributions.py:2557: FutureWarning: `distplot` is a deprecated function and will be removed in a future version. Please adapt your code to use either `displot` (a figure-level function with similar flexibility) or `histplot` (an axes-level function for histograms).\n",
      "  warnings.warn(msg, FutureWarning)\n"
     ]
    },
    {
     "data": {
      "image/png": "[encoded data removed]",
      "text/plain": [
       "<Figure size 432x288 with 1 Axes>"
      ]
     },
     "metadata": {
      "needs_background": "light"
     },
     "output_type": "display_data"
    }
   ],
   "source": [
    "x = RFMScores.query('Frequency < 1000')['Frequency']\n",
    "\n",
    "ax = sns.distplot(x)"
   ]
  },
  {
   "cell_type": "markdown",
   "id": "a8178840",
   "metadata": {},
   "source": [
    "### Monetary Visualization"
   ]
  },
  {
   "cell_type": "code",
   "execution_count": 40,
   "id": "48ed25b0",
   "metadata": {},
   "outputs": [
    {
     "data": {
      "text/plain": [
       "count     5000.000000\n",
       "mean      1680.951600\n",
       "std       1998.637336\n",
       "min         38.000000\n",
       "25%        315.000000\n",
       "50%        966.000000\n",
       "75%       2492.500000\n",
       "max      34847.000000\n",
       "Name: Monetary, dtype: float64"
      ]
     },
     "execution_count": 40,
     "metadata": {},
     "output_type": "execute_result"
    }
   ],
   "source": [
    "RFMScores.Monetary.describe()"
   ]
  },
  {
   "cell_type": "code",
   "execution_count": 41,
   "id": "23f480bd",
   "metadata": {},
   "outputs": [
    {
     "name": "stderr",
     "output_type": "stream",
     "text": [
      "C:\\Users\\ASUS\\anaconda3\\lib\\site-packages\\seaborn\\distributions.py:2557: FutureWarning: `distplot` is a deprecated function and will be removed in a future version. Please adapt your code to use either `displot` (a figure-level function with similar flexibility) or `histplot` (an axes-level function for histograms).\n",
      "  warnings.warn(msg, FutureWarning)\n"
     ]
    },
    {
     "data": {
      "image/png": "[encoded data removed]",
      "text/plain": [
       "<Figure size 432x288 with 1 Axes>"
      ]
     },
     "metadata": {
      "needs_background": "light"
     },
     "output_type": "display_data"
    }
   ],
   "source": [
    "x = RFMScores.query('Monetary < 10000')['Monetary']\n",
    "\n",
    "ax = sns.distplot(x)"
   ]
  },
  {
   "cell_type": "markdown",
   "id": "f7129f58",
   "metadata": {},
   "source": [
    "Dicivde the values in 4 pieces\n",
    "\n",
    "0-25%\n",
    "\n",
    "25%-50%\n",
    "\n",
    "50%-80%\n",
    "\n",
    "80%-100% in accending order of the values"
   ]
  },
  {
   "cell_type": "code",
   "execution_count": 42,
   "id": "340274c8",
   "metadata": {},
   "outputs": [],
   "source": [
    "quantiles = RFMScores.quantile(q=[0.25,0.5,0.80])\n",
    "quantiles = quantiles.to_dict()"
   ]
  },
  {
   "cell_type": "markdown",
   "id": "cf89cd90",
   "metadata": {},
   "source": [
    "We can see the value on each cutting point"
   ]
  },
  {
   "cell_type": "code",
   "execution_count": 43,
   "id": "7c61e720",
   "metadata": {},
   "outputs": [
    {
     "data": {
      "text/plain": [
       "{'Recency': {0.25: 6.0, 0.5: 67.0, 0.8: 206.0},\n",
       " 'Frequency': {0.25: 21.0, 0.5: 57.0, 0.8: 235.0},\n",
       " 'Monetary': {0.25: 315.0, 0.5: 966.0, 0.8: 3026.2000000000003}}"
      ]
     },
     "execution_count": 43,
     "metadata": {},
     "output_type": "execute_result"
    }
   ],
   "source": [
    "quantiles"
   ]
  },
  {
   "cell_type": "markdown",
   "id": "bf703074",
   "metadata": {},
   "source": [
    "##### Define a function to give score ( Note: Low RFM is considered good)\n",
    "\n",
    "For example:top 25% revenue Generaters will get 1 score\n",
    "\n",
    "next 25 % will get score of 2 and so on\n",
    "\n",
    "Process will be similiar for Revenue And Frequency... higher the value lower the score\n",
    "\n",
    "But but but for Recency it will be opposite.. that is lower the Recency lower the score\n",
    "\n",
    "because lower is the recency lower the score"
   ]
  },
  {
   "cell_type": "code",
   "execution_count": 44,
   "id": "5d94f34d",
   "metadata": {},
   "outputs": [],
   "source": [
    "# For Recency lower the value lower the score(better)\n",
    "def RScoring(x,p,d):\n",
    "    if x <= d[p][0.25]:\n",
    "        return 1\n",
    "    elif x <= d[p][0.50]:\n",
    "        return 2\n",
    "    elif x <= d[p][0.80]: \n",
    "        return 3\n",
    "    else:\n",
    "        return 4\n",
    "# For Frequewncy and Monetary, higher the value lower the score( better)\n",
    "def FnMScoring(x,p,d):\n",
    "    if x <= d[p][0.25]:\n",
    "        return 4\n",
    "    elif x <= d[p][0.50]:\n",
    "        return 3\n",
    "    elif x <= d[p][0.80]: \n",
    "        return 2\n",
    "    else:\n",
    "        return 1"
   ]
  },
  {
   "cell_type": "code",
   "execution_count": 45,
   "id": "348392ce",
   "metadata": {},
   "outputs": [
    {
     "data": {
      "text/html": [
       "<div>\n",
       "<style scoped>\n",
       "    .dataframe tbody tr th:only-of-type {\n",
       "        vertical-align: middle;\n",
       "    }\n",
       "\n",
       "    .dataframe tbody tr th {\n",
       "        vertical-align: top;\n",
       "    }\n",
       "\n",
       "    .dataframe thead th {\n",
       "        text-align: right;\n",
       "    }\n",
       "</style>\n",
       "<table border=\"1\" class=\"dataframe\">\n",
       "  <thead>\n",
       "    <tr style=\"text-align: right;\">\n",
       "      <th></th>\n",
       "      <th>Recency</th>\n",
       "      <th>Frequency</th>\n",
       "      <th>Monetary</th>\n",
       "      <th>R</th>\n",
       "      <th>F</th>\n",
       "      <th>M</th>\n",
       "    </tr>\n",
       "    <tr>\n",
       "      <th>CustomerID</th>\n",
       "      <th></th>\n",
       "      <th></th>\n",
       "      <th></th>\n",
       "      <th></th>\n",
       "      <th></th>\n",
       "      <th></th>\n",
       "    </tr>\n",
       "  </thead>\n",
       "  <tbody>\n",
       "    <tr>\n",
       "      <th>2333</th>\n",
       "      <td>52</td>\n",
       "      <td>8.0</td>\n",
       "      <td>34847.0</td>\n",
       "      <td>2</td>\n",
       "      <td>4</td>\n",
       "      <td>1</td>\n",
       "    </tr>\n",
       "    <tr>\n",
       "      <th>2334</th>\n",
       "      <td>93</td>\n",
       "      <td>15.0</td>\n",
       "      <td>32486.0</td>\n",
       "      <td>3</td>\n",
       "      <td>4</td>\n",
       "      <td>1</td>\n",
       "    </tr>\n",
       "    <tr>\n",
       "      <th>2335</th>\n",
       "      <td>52</td>\n",
       "      <td>24.0</td>\n",
       "      <td>24178.0</td>\n",
       "      <td>2</td>\n",
       "      <td>3</td>\n",
       "      <td>1</td>\n",
       "    </tr>\n",
       "    <tr>\n",
       "      <th>2336</th>\n",
       "      <td>4</td>\n",
       "      <td>21.0</td>\n",
       "      <td>18554.0</td>\n",
       "      <td>1</td>\n",
       "      <td>4</td>\n",
       "      <td>1</td>\n",
       "    </tr>\n",
       "    <tr>\n",
       "      <th>2337</th>\n",
       "      <td>129</td>\n",
       "      <td>76.0</td>\n",
       "      <td>16884.0</td>\n",
       "      <td>3</td>\n",
       "      <td>2</td>\n",
       "      <td>1</td>\n",
       "    </tr>\n",
       "  </tbody>\n",
       "</table>\n",
       "</div>"
      ],
      "text/plain": [
       "            Recency  Frequency  Monetary  R  F  M\n",
       "CustomerID                                       \n",
       "2333             52        8.0   34847.0  2  4  1\n",
       "2334             93       15.0   32486.0  3  4  1\n",
       "2335             52       24.0   24178.0  2  3  1\n",
       "2336              4       21.0   18554.0  1  4  1\n",
       "2337            129       76.0   16884.0  3  2  1"
      ]
     },
     "execution_count": 45,
     "metadata": {},
     "output_type": "execute_result"
    }
   ],
   "source": [
    "# Calling each function with the arguments\n",
    "RFMScores['R'] = RFMScores['Recency'].apply(RScoring, args=('Recency',quantiles,))\n",
    "RFMScores['F'] = RFMScores['Frequency'].apply(FnMScoring, args=('Frequency',quantiles,))\n",
    "RFMScores['M'] = RFMScores['Monetary'].apply(FnMScoring, args=('Monetary',quantiles,))\n",
    "RFMScores.head()"
   ]
  },
  {
   "cell_type": "markdown",
   "id": "ef43e1d9",
   "metadata": {},
   "source": [
    "### We Get the Total RFM score by adding all columns"
   ]
  },
  {
   "cell_type": "code",
   "execution_count": 46,
   "id": "bb2ecef1",
   "metadata": {},
   "outputs": [
    {
     "data": {
      "text/html": [
       "<div>\n",
       "<style scoped>\n",
       "    .dataframe tbody tr th:only-of-type {\n",
       "        vertical-align: middle;\n",
       "    }\n",
       "\n",
       "    .dataframe tbody tr th {\n",
       "        vertical-align: top;\n",
       "    }\n",
       "\n",
       "    .dataframe thead th {\n",
       "        text-align: right;\n",
       "    }\n",
       "</style>\n",
       "<table border=\"1\" class=\"dataframe\">\n",
       "  <thead>\n",
       "    <tr style=\"text-align: right;\">\n",
       "      <th></th>\n",
       "      <th>Recency</th>\n",
       "      <th>Frequency</th>\n",
       "      <th>Monetary</th>\n",
       "      <th>R</th>\n",
       "      <th>F</th>\n",
       "      <th>M</th>\n",
       "      <th>RFMGroup</th>\n",
       "      <th>RFMScore</th>\n",
       "    </tr>\n",
       "    <tr>\n",
       "      <th>CustomerID</th>\n",
       "      <th></th>\n",
       "      <th></th>\n",
       "      <th></th>\n",
       "      <th></th>\n",
       "      <th></th>\n",
       "      <th></th>\n",
       "      <th></th>\n",
       "      <th></th>\n",
       "    </tr>\n",
       "  </thead>\n",
       "  <tbody>\n",
       "    <tr>\n",
       "      <th>2333</th>\n",
       "      <td>52</td>\n",
       "      <td>8.0</td>\n",
       "      <td>34847.0</td>\n",
       "      <td>2</td>\n",
       "      <td>4</td>\n",
       "      <td>1</td>\n",
       "      <td>241</td>\n",
       "      <td>7</td>\n",
       "    </tr>\n",
       "    <tr>\n",
       "      <th>2334</th>\n",
       "      <td>93</td>\n",
       "      <td>15.0</td>\n",
       "      <td>32486.0</td>\n",
       "      <td>3</td>\n",
       "      <td>4</td>\n",
       "      <td>1</td>\n",
       "      <td>341</td>\n",
       "      <td>8</td>\n",
       "    </tr>\n",
       "    <tr>\n",
       "      <th>2335</th>\n",
       "      <td>52</td>\n",
       "      <td>24.0</td>\n",
       "      <td>24178.0</td>\n",
       "      <td>2</td>\n",
       "      <td>3</td>\n",
       "      <td>1</td>\n",
       "      <td>231</td>\n",
       "      <td>6</td>\n",
       "    </tr>\n",
       "    <tr>\n",
       "      <th>2336</th>\n",
       "      <td>4</td>\n",
       "      <td>21.0</td>\n",
       "      <td>18554.0</td>\n",
       "      <td>1</td>\n",
       "      <td>4</td>\n",
       "      <td>1</td>\n",
       "      <td>141</td>\n",
       "      <td>6</td>\n",
       "    </tr>\n",
       "    <tr>\n",
       "      <th>2337</th>\n",
       "      <td>129</td>\n",
       "      <td>76.0</td>\n",
       "      <td>16884.0</td>\n",
       "      <td>3</td>\n",
       "      <td>2</td>\n",
       "      <td>1</td>\n",
       "      <td>321</td>\n",
       "      <td>6</td>\n",
       "    </tr>\n",
       "  </tbody>\n",
       "</table>\n",
       "</div>"
      ],
      "text/plain": [
       "            Recency  Frequency  Monetary  R  F  M RFMGroup  RFMScore\n",
       "CustomerID                                                          \n",
       "2333             52        8.0   34847.0  2  4  1      241         7\n",
       "2334             93       15.0   32486.0  3  4  1      341         8\n",
       "2335             52       24.0   24178.0  2  3  1      231         6\n",
       "2336              4       21.0   18554.0  1  4  1      141         6\n",
       "2337            129       76.0   16884.0  3  2  1      321         6"
      ]
     },
     "execution_count": 46,
     "metadata": {},
     "output_type": "execute_result"
    }
   ],
   "source": [
    "#Calculate and Add RFMGroup value column showing combined concatenated score of RFM\n",
    "RFMScores['RFMGroup'] = RFMScores.R.map(str) + RFMScores.F.map(str) + RFMScores.M.map(str)\n",
    "\n",
    "#Calculate and Add RFMScore value column showing total sum of RFMGroup values\n",
    "RFMScores['RFMScore'] = RFMScores[['R', 'F', 'M']].sum(axis = 1)\n",
    "RFMScores.head()"
   ]
  },
  {
   "cell_type": "markdown",
   "id": "f14e9a3a",
   "metadata": {},
   "source": [
    "### Visualization of the distribution"
   ]
  },
  {
   "cell_type": "code",
   "execution_count": 47,
   "id": "1034530f",
   "metadata": {},
   "outputs": [
    {
     "name": "stderr",
     "output_type": "stream",
     "text": [
      "C:\\Users\\ASUS\\anaconda3\\lib\\site-packages\\seaborn\\_decorators.py:36: FutureWarning: Pass the following variable as a keyword arg: x. From version 0.12, the only valid positional argument will be `data`, and passing other arguments without an explicit keyword will result in an error or misinterpretation.\n",
      "  warnings.warn(\n"
     ]
    },
    {
     "data": {
      "image/png": "[encoded data removed]",
      "text/plain": [
       "<Figure size 432x288 with 1 Axes>"
      ]
     },
     "metadata": {
      "needs_background": "light"
     },
     "output_type": "display_data"
    }
   ],
   "source": [
    "sns.countplot(RFMScores['RFMScore'])\n",
    "plt.show()"
   ]
  },
  {
   "cell_type": "markdown",
   "id": "3f1c62ff",
   "metadata": {},
   "source": [
    "##### Lower the RFM.. More loyal user yor are\n",
    "\n",
    "That means that having low RFM is good so we will define a function and for all users having low values we will assign them platinum badge\n",
    "\n",
    "And for user having highest score we'll asign them Bronze Badge"
   ]
  },
  {
   "cell_type": "code",
   "execution_count": 48,
   "id": "4dd43962",
   "metadata": {},
   "outputs": [
    {
     "data": {
      "text/plain": [
       "CustomerID\n",
       "2333        Gold\n",
       "2334      Silver\n",
       "2335        Gold\n",
       "2336        Gold\n",
       "2337        Gold\n",
       "           ...  \n",
       "251041      Gold\n",
       "251042    Silver\n",
       "261374    Silver\n",
       "268356    Silver\n",
       "279492      Gold\n",
       "Name: RFMScore, Length: 5000, dtype: object"
      ]
     },
     "execution_count": 48,
     "metadata": {},
     "output_type": "execute_result"
    }
   ],
   "source": [
    "# You can do this distribution according to you\n",
    "def handel_badge(value):\n",
    "    if(value>=10):\n",
    "        return 'Bronze'\n",
    "    elif(value>=8 and value<10):\n",
    "        return 'Silver'\n",
    "    elif(value>=6 and value<8):\n",
    "        return 'Gold'\n",
    "    else:\n",
    "        return 'Platinum'\n",
    "\n",
    "# Storing all the values in a list   \n",
    "list1=RFMScores['RFMScore'].apply(handel_badge)\n",
    "list1"
   ]
  },
  {
   "cell_type": "code",
   "execution_count": 49,
   "id": "ff841396",
   "metadata": {},
   "outputs": [
    {
     "data": {
      "text/html": [
       "<div>\n",
       "<style scoped>\n",
       "    .dataframe tbody tr th:only-of-type {\n",
       "        vertical-align: middle;\n",
       "    }\n",
       "\n",
       "    .dataframe tbody tr th {\n",
       "        vertical-align: top;\n",
       "    }\n",
       "\n",
       "    .dataframe thead th {\n",
       "        text-align: right;\n",
       "    }\n",
       "</style>\n",
       "<table border=\"1\" class=\"dataframe\">\n",
       "  <thead>\n",
       "    <tr style=\"text-align: right;\">\n",
       "      <th></th>\n",
       "      <th>CustomerID</th>\n",
       "      <th>Recency</th>\n",
       "      <th>Frequency</th>\n",
       "      <th>Monetary</th>\n",
       "      <th>R</th>\n",
       "      <th>F</th>\n",
       "      <th>M</th>\n",
       "      <th>RFMGroup</th>\n",
       "      <th>RFMScore</th>\n",
       "      <th>RFM_Loyalty_Level</th>\n",
       "    </tr>\n",
       "  </thead>\n",
       "  <tbody>\n",
       "    <tr>\n",
       "      <th>0</th>\n",
       "      <td>2333</td>\n",
       "      <td>52</td>\n",
       "      <td>8.0</td>\n",
       "      <td>34847.0</td>\n",
       "      <td>2</td>\n",
       "      <td>4</td>\n",
       "      <td>1</td>\n",
       "      <td>241</td>\n",
       "      <td>7</td>\n",
       "      <td>Gold</td>\n",
       "    </tr>\n",
       "    <tr>\n",
       "      <th>1</th>\n",
       "      <td>2334</td>\n",
       "      <td>93</td>\n",
       "      <td>15.0</td>\n",
       "      <td>32486.0</td>\n",
       "      <td>3</td>\n",
       "      <td>4</td>\n",
       "      <td>1</td>\n",
       "      <td>341</td>\n",
       "      <td>8</td>\n",
       "      <td>Silver</td>\n",
       "    </tr>\n",
       "    <tr>\n",
       "      <th>2</th>\n",
       "      <td>2335</td>\n",
       "      <td>52</td>\n",
       "      <td>24.0</td>\n",
       "      <td>24178.0</td>\n",
       "      <td>2</td>\n",
       "      <td>3</td>\n",
       "      <td>1</td>\n",
       "      <td>231</td>\n",
       "      <td>6</td>\n",
       "      <td>Gold</td>\n",
       "    </tr>\n",
       "    <tr>\n",
       "      <th>3</th>\n",
       "      <td>2336</td>\n",
       "      <td>4</td>\n",
       "      <td>21.0</td>\n",
       "      <td>18554.0</td>\n",
       "      <td>1</td>\n",
       "      <td>4</td>\n",
       "      <td>1</td>\n",
       "      <td>141</td>\n",
       "      <td>6</td>\n",
       "      <td>Gold</td>\n",
       "    </tr>\n",
       "    <tr>\n",
       "      <th>4</th>\n",
       "      <td>2337</td>\n",
       "      <td>129</td>\n",
       "      <td>76.0</td>\n",
       "      <td>16884.0</td>\n",
       "      <td>3</td>\n",
       "      <td>2</td>\n",
       "      <td>1</td>\n",
       "      <td>321</td>\n",
       "      <td>6</td>\n",
       "      <td>Gold</td>\n",
       "    </tr>\n",
       "  </tbody>\n",
       "</table>\n",
       "</div>"
      ],
      "text/plain": [
       "   CustomerID  Recency  Frequency  Monetary  R  F  M RFMGroup  RFMScore  \\\n",
       "0        2333       52        8.0   34847.0  2  4  1      241         7   \n",
       "1        2334       93       15.0   32486.0  3  4  1      341         8   \n",
       "2        2335       52       24.0   24178.0  2  3  1      231         6   \n",
       "3        2336        4       21.0   18554.0  1  4  1      141         6   \n",
       "4        2337      129       76.0   16884.0  3  2  1      321         6   \n",
       "\n",
       "  RFM_Loyalty_Level  \n",
       "0              Gold  \n",
       "1            Silver  \n",
       "2              Gold  \n",
       "3              Gold  \n",
       "4              Gold  "
      ]
     },
     "execution_count": 49,
     "metadata": {},
     "output_type": "execute_result"
    }
   ],
   "source": [
    "# adding that list into the dataframe\n",
    "RFMScores['RFM_Loyalty_Level']=list1\n",
    "RFMScores.reset_index().head()"
   ]
  },
  {
   "cell_type": "code",
   "execution_count": 50,
   "id": "8c06a93d",
   "metadata": {},
   "outputs": [
    {
     "data": {
      "text/plain": [
       "4"
      ]
     },
     "execution_count": 50,
     "metadata": {},
     "output_type": "execute_result"
    }
   ],
   "source": [
    "RFMScores['RFMScore'].min()"
   ]
  },
  {
   "cell_type": "markdown",
   "id": "01704004",
   "metadata": {},
   "source": [
    "### Visualization of the distribution"
   ]
  },
  {
   "cell_type": "code",
   "execution_count": 51,
   "id": "fda48b6a",
   "metadata": {},
   "outputs": [
    {
     "name": "stderr",
     "output_type": "stream",
     "text": [
      "C:\\Users\\ASUS\\anaconda3\\lib\\site-packages\\seaborn\\_decorators.py:36: FutureWarning: Pass the following variable as a keyword arg: x. From version 0.12, the only valid positional argument will be `data`, and passing other arguments without an explicit keyword will result in an error or misinterpretation.\n",
      "  warnings.warn(\n"
     ]
    },
    {
     "data": {
      "image/png": "[encoded data removed]",
      "text/plain": [
       "<Figure size 432x288 with 1 Axes>"
      ]
     },
     "metadata": {
      "needs_background": "light"
     },
     "output_type": "display_data"
    }
   ],
   "source": [
    "sns.countplot(RFMScores['RFM_Loyalty_Level'])\n",
    "plt.show()"
   ]
  },
  {
   "cell_type": "code",
   "execution_count": 52,
   "id": "50cbddd6",
   "metadata": {},
   "outputs": [
    {
     "name": "stderr",
     "output_type": "stream",
     "text": [
      "C:\\Users\\ASUS\\anaconda3\\lib\\site-packages\\seaborn\\_decorators.py:36: FutureWarning: Pass the following variable as a keyword arg: x. From version 0.12, the only valid positional argument will be `data`, and passing other arguments without an explicit keyword will result in an error or misinterpretation.\n",
      "  warnings.warn(\n"
     ]
    },
    {
     "data": {
      "image/png": "[encoded data removed]",
      "text/plain": [
       "<Figure size 1152x360 with 1 Axes>"
      ]
     },
     "metadata": {
      "needs_background": "light"
     },
     "output_type": "display_data"
    }
   ],
   "source": [
    "df2=RFMScores['RFMGroup'].sort_values(ascending=True)\n",
    "plt.figure(figsize=(16,5))\n",
    "sns.countplot(df2)\n",
    "plt.xticks(rotation=90)\n",
    "plt.show()"
   ]
  },
  {
   "cell_type": "code",
   "execution_count": 53,
   "id": "3468c133",
   "metadata": {},
   "outputs": [
    {
     "data": {
      "text/plain": [
       "Gold        2608\n",
       "Silver      1341\n",
       "Bronze       570\n",
       "Platinum     481\n",
       "Name: RFM_Loyalty_Level, dtype: int64"
      ]
     },
     "execution_count": 53,
     "metadata": {},
     "output_type": "execute_result"
    }
   ],
   "source": [
    "RFMScores['RFM_Loyalty_Level'].value_counts()"
   ]
  },
  {
   "cell_type": "code",
   "execution_count": 54,
   "id": "de4b767f",
   "metadata": {},
   "outputs": [
    {
     "data": {
      "image/png": "[encoded data removed]",
      "text/plain": [
       "<Figure size 864x576 with 1 Axes>"
      ]
     },
     "metadata": {
      "needs_background": "light"
     },
     "output_type": "display_data"
    }
   ],
   "source": [
    "plt.figure(figsize=(12,8))\n",
    "colors = sns.color_palette('pastel')[0:4]\n",
    "\n",
    "plt.pie(list1.value_counts(),labels=RFMScores['RFM_Loyalty_Level'].unique(),colors = colors,frame=True,autopct='%.0f%%')\n",
    "plt.show()"
   ]
  },
  {
   "cell_type": "markdown",
   "id": "76cfcaff",
   "metadata": {},
   "source": [
    "#### Strategy For Marketing (Conclusion)\n",
    "\n",
    "-Platinum: Platinum Users are our best users we should give them offer like free delivery as they are our regular customers, we sould retain them at any cost\n",
    "\n",
    "-Gold: Those are the users who bought from us but are not that frequent, To bring them more we can them offeres like buy 2 get 1 free\n",
    "\n",
    "-Silver: Those are the users who bought only in time of sales.. so we should spend more on reaching these people during time of sale\n",
    "\n",
    "-Bronze: Those are who only visit out site to avail some coupon,, We should give them discount coupon so they visit us more\n"
   ]
  }
 ],
 "metadata": {
  "kernelspec": {
   "display_name": "Python 3",
   "language": "python",
   "name": "python3"
  },
  "language_info": {
   "codemirror_mode": {
    "name": "ipython",
    "version": 3
   },
   "file_extension": ".py",
   "mimetype": "text/x-python",
   "name": "python",
   "nbconvert_exporter": "python",
   "pygments_lexer": "ipython3",
   "version": "3.8.8"
  }
 },
 "nbformat": 4,
 "nbformat_minor": 5
}
